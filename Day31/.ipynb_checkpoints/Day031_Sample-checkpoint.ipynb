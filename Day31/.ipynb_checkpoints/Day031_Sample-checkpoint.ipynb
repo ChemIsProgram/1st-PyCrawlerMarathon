{
 "cells": [
  {
   "cell_type": "markdown",
   "metadata": {},
   "source": [
    "# 反爬：瀏覽器標頭與基本資訊\n",
    "\n",
    "\n",
    "* 了解「檢查 HTTP 標頭檔」的反爬蟲機制\n",
    "* 「檢查 HTTP 標頭檔」反爬蟲的因應策略\n"
   ]
  },
  {
   "cell_type": "markdown",
   "metadata": {},
   "source": [
    "## 沒有加 Header 的情況"
   ]
  },
  {
   "cell_type": "code",
   "execution_count": 5,
   "metadata": {},
   "outputs": [
    {
     "data": {
      "text/plain": [
       "'<!DOCTYPE html>\\n<html style=\"height:100%;width:100%\">\\n        <head>\\n            <meta http-equiv=\"Content-Type\" content=\"text/html; charset=utf-8\" />\\n            <meta http-equiv=\"Server\" content=\"HuaweiCloudWAF\" />\\n            <title id=\"title\">\\n                è®¿é\\x97®è¢«æ\\x8b¦æ\\x88ªï¼\\x81\\n            </title>\\n                            <script>\\n                function bindall() {var requestid = \"30-30-14-20190729225616-d49c4c8c\";if(requestid==null || requestid == \"\"){return;}document.getElementById(\"a\").innerText = requestid;}</script></head><body onload=\"bindall()\" style=\"height:100%;width:100%;margin:0px;font-family:Microsoft yahei\"><div></div><div style=\"min-height:13.125rem;height:17%;width:100%\"><div style=\"margin-top:3.75rem;margin-left:18.4375rem;height:52.38;width:83.04%;\"><svg xmlns=\"http://www.w3.org/2000/svg\" style=\"width: 3.125rem;height: 3.125rem\" viewBox=\"0 0 50 50\"><path fill=\"#e84e4c\" d=\"M25,0A25,25,0,1,0,50,25,25,25,0,0,0,25,0Zm1.6,37.16H22.85V33.41H26.6Zm0-6.63H22.85L22.35,13H27.1Z\"/></svg><font style=\"font-family:MicrosoftYaHei;font-size:4.375rem;color:#e94d4c;margin-left: 0.75rem;font-weight: bold;\">418</font></div><div style=\"margin-left:18.4375rem;height:47.62%;width:83.04%;\"><font style=\"font-family:MicrosoftYaHei;font-size:1.875rem;color:#999999;word-wrap:break-word;\">æ\\x82¨ç\\x9a\\x84è¯·æ±\\x82ç\\x96\\x91ä¼¼æ\\x94»å\\x87»è¡\\x8cä¸ºï¼\\x81</font><p style=\"font-family:MicrosoftYaHei;font-size:0.9rem;color:#999999;word-wrap:break-word;\"><span>äº\\x8bä»¶IDï¼\\x9a</span><span style=\"color:#499df2\" id=\"a\">False alarm ID</p></div></div><div style=\"height:15.625rem;width:100%;min-width:105rem;\"><div style=\"margin-left:18.4375rem;float:left;width:50rem\"><p style=\"margin-top:10px\">å¦\\x82æ\\x9e\\x9cæ\\x82¨æ\\x98¯ç«\\x99é\\x95¿ï¼\\x8cæ\\x82¨å\\x8f¯ä»¥å\\x89\\x8då¾\\x80WAFæ\\x8e§å\\x88¶å\\x8f°è¿\\x9bè¡\\x8cè¯¯æ\\x8a¥å±\\x8fè\\x94½è®¾ç½®ï¼\\x8cè®©æ\\x82¨ç\\x9a\\x84è®¿é\\x97®ä¸\\x8då\\x86\\x8dè¢«æ\\x8b¦æ\\x88ª</p></div></div></body></html>\\n'"
      ]
     },
     "execution_count": 5,
     "metadata": {},
     "output_type": "execute_result"
    }
   ],
   "source": [
    "import requests\n",
    "r = requests.get('https://www.aicoin.net.cn/')\n",
    "response = r.text\n",
    "\n",
    "response"
   ]
  },
  {
   "cell_type": "markdown",
   "metadata": {},
   "source": [
    "## 加上 Header 的情況"
   ]
  },
  {
   "cell_type": "code",
   "execution_count": 1,
   "metadata": {},
   "outputs": [
    {
     "data": {
      "text/plain": [
       "'<html><head><title>404 Not Found</title></head><body bgcolor=\"white\"><center><h1>404 Not Found</h1></center><hr><center>ALB</center></body></html>\\n'"
      ]
     },
     "execution_count": 1,
     "metadata": {},
     "output_type": "execute_result"
    }
   ],
   "source": [
    "import requests\n",
    "headers = {'user-agent': 'my-app/0.0.1'}\n",
    "r = requests.get('https://www.aicoin.net.cn/',headers=headers)\n",
    "response = r.text\n",
    "\n",
    "response"
   ]
  },
  {
   "cell_type": "markdown",
   "metadata": {},
   "source": [
    "## 作業目標\n",
    "\n",
    "* 尋找一個網站是有作 Header 檢查的（Hint: 有加跟沒有加回傳結果不一樣）\n",
    "* 用上述網站說明該如何判斷 Header 中必須加上哪些資料才會正確\n"
   ]
  },
  {
   "cell_type": "code",
   "execution_count": null,
   "metadata": {},
   "outputs": [],
   "source": []
  }
 ],
 "metadata": {
  "kernelspec": {
   "display_name": "Python 3",
   "language": "python",
   "name": "python3"
  },
  "language_info": {
   "codemirror_mode": {
    "name": "ipython",
    "version": 3
   },
   "file_extension": ".py",
   "mimetype": "text/x-python",
   "name": "python",
   "nbconvert_exporter": "python",
   "pygments_lexer": "ipython3",
   "version": "3.7.0"
  }
 },
 "nbformat": 4,
 "nbformat_minor": 2
}
