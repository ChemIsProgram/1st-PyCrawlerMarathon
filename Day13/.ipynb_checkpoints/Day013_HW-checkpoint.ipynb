{
 "cells": [
  {
   "cell_type": "markdown",
   "metadata": {},
   "source": [
    "# PTT 網路爬蟲實作練習\n",
    "\n",
    "\n",
    "* 能夠利用 Request + BeatifulSour 撰寫爬蟲，並存放到合適的資料結構\n"
   ]
  },
  {
   "cell_type": "markdown",
   "metadata": {},
   "source": [
    "## 作業目標\n",
    "\n",
    "根據範例 ，完成以下問題：\n",
    "\n",
    "* ① 印出最新文章的「作者」「標題」「時間」\n",
    "* ② 印出第一頁所有文章的「作者」「標題」「時間」\n"
   ]
  },
  {
   "cell_type": "markdown",
   "metadata": {},
   "source": [
    "### ① 印出最新文章的「作者」「標題」「時間」"
   ]
  },
  {
   "cell_type": "code",
   "execution_count": 17,
   "metadata": {},
   "outputs": [
    {
     "name": "stdout",
     "output_type": "stream",
     "text": [
      "[情報] 尼克已收到多份有關Morris的報價\n",
      "作者: ghost069 (阿鬼)\n",
      "時間: Thu Feb  6 12:57:49 2020\n",
      "[花邊] 小AI:能在邁阿密重新上場打球 我太興奮了\n",
      "作者: MayBeSoft (小小瑜兒)\n",
      "時間: Thu Feb  6 13:17:29 2020\n",
      "[BOX ] Heat 111:128 Clippers 數據\n",
      "[情報] Alec Burks 去76人\n",
      "作者: melman87 (長頸男)\n",
      "時間: Thu Feb  6 13:38:47 2020\n",
      "[公告] 板規v6.8\n",
      "[公告] 樂透取消及未來不再開啟樂透\n",
      "作者: Vedan (味丹)\n",
      "時間: Mon Jun 24 15:08:02 2019\n",
      "[公告] 版主上任相關事項 \n",
      "作者: qazwsx879345 (Rajon Rondo)\n",
      "時間: Fri Oct 25 10:44:03 2019\n",
      "[情報] SEASON Schedule 賽程 February 19–20\n",
      "作者: Acetoxy (阿斯)\n",
      "時間: Fri Jan 31 22:36:43 2020\n"
     ]
    }
   ],
   "source": [
    "import requests\n",
    "from bs4 import BeautifulSoup\n",
    "\n",
    "url = 'https://www.ptt.cc/bbs/NBA/index.html'\n",
    "r = requests.get(url)\n",
    "\n",
    "soup = BeautifulSoup(r.text, \"html.parser\")\n",
    "\n",
    "for d in soup.find_all(class_=\"title\"):\n",
    "    print(d.text.replace('\\t', '').replace('\\n', ''))\n",
    "    try:\n",
    "        r = BeautifulSoup(requests.get('https://www.ptt.cc'+d.find('a')['href']).text, \"html5lib\")\n",
    "        print('作者: ' + r.find_all(\"span\",{\"class\":\"article-meta-value\"})[0].text)\n",
    "        print('時間: ' + r.find_all(\"span\",{\"class\":\"article-meta-value\"})[3].text)\n",
    "    except:\n",
    "        continue"
   ]
  },
  {
   "cell_type": "markdown",
   "metadata": {},
   "source": [
    "### ② 印出第一頁所有文章的「作者」「標題」「時間」"
   ]
  },
  {
   "cell_type": "code",
   "execution_count": 15,
   "metadata": {},
   "outputs": [
    {
     "name": "stdout",
     "output_type": "stream",
     "text": [
      "[討論] LBJ今天是否有加裝Kobe晶片?\n",
      "作者: skylion (溫暖的傳說)\n",
      "時間: Wed Feb  5 13:57:31 2020\n",
      "[花邊] 記者問如何阻擋LBJ POPO:你只想到問這個?\n",
      "作者: MayBeSoft (小小瑜兒)\n",
      "時間: Wed Feb  5 14:15:21 2020\n",
      "[情報] 魔獸例行賽雙10次數超越Shaq獨居歷史第11\n",
      "作者: avrild12 (78elic)\n",
      "時間: Wed Feb  5 14:42:55 2020\n",
      "[花邊] kobe曾說會在灌籃大賽幫dh\n",
      "作者: chku5015 (leolion1210)\n",
      "時間: Wed Feb  5 14:45:37 2020\n",
      "[花邊] Kuz談流言:Kobe說沒人談論你 你才該擔心\n",
      "作者: manuginobii (做愛校 果真累人)\n",
      "時間: Wed Feb  5 14:48:34 2020\n",
      "[新聞] 灌籃大賽不見衛冕冠軍 迪亞洛健康因素無緣\n",
      "作者: currykukuo (陳菊濕汗)\n",
      "時間: Wed Feb  5 15:00:14 2020\n",
      "Re: [討論] kobe\"老大\"這綽號是怎麼來的?\n",
      "作者: willsmith (沒辦法 家裡窮)\n",
      "時間: Wed Feb  5 15:55:03 2020\n",
      "[情報] 良師益友! LBJ曬拉桿上籃:從KI那裡學的\n",
      "作者: manuginobii (做愛校 果真累人)\n",
      "時間: Wed Feb  5 16:03:13 2020\n",
      "[情報] Eric Gordon追平單場最多三分出手0中\n",
      "作者: MrSatan (老大!!!!!!!!)\n",
      "時間: Wed Feb  5 16:04:01 2020\n",
      "[新聞] 首度強碰威廉森 安戴托昆波：他有大好未\n",
      "作者: phoenix286 (糰子大家族)\n",
      "時間: Wed Feb  5 16:22:20 2020\n",
      "[討論] 這四方交易 火箭其實賺蠻大的\n",
      "作者: ericgary (艾瑞克蓋瑞)\n",
      "時間: Wed Feb  5 16:47:50 2020\n",
      "[花邊] LBJ跟TNT工作人員分享要Wade新工作做甚麼\n",
      "作者: pneumo (超☆冒險蓋)\n",
      "時間: Wed Feb  5 17:14:25 2020\n",
      "[情報] 哈登.魔獸正在挑戰歷史紀錄\n",
      "作者: arx55522 (憂鬱肥宅魯蛇)\n",
      "時間: Wed Feb  5 17:25:05 2020\n",
      "[情報] Zion籃下搶劫式抄走字母哥的球\n",
      "作者: whoAU (你是誰？)\n",
      "時間: Wed Feb  5 17:52:48 2020\n",
      "Re: [討論] 阿銀哪一步開始走錯了？\n",
      "作者: zzogdoll (布萊德彼特)\n",
      "時間: Wed Feb  5 18:13:02 2020\n",
      "[情報] ESPN:火箭打算讓Tucker打先發中鋒 \n",
      "作者: iicorn (Qnini)\n",
      "時間: Wed Feb  5 19:19:17 2020\n",
      "[花邊] 奈及利亞備戰東京奧運 布朗同意接任總教練\n",
      "作者: thnlkj0665 (灰色地帶)\n",
      "時間: Wed Feb  5 19:36:35 2020\n",
      "[討論] 現今聯盟可控可防的球員Top10?\n",
      "作者: atyin (only the strong survive)\n",
      "時間: Wed Feb  5 20:17:01 2020\n",
      "[公告] 情報文開放不限額度\n",
      "作者: namie810303 (NBA)\n",
      "時間: Wed Feb  5 20:21:52 2020\n",
      "[情報] NBA Standings (Feb. 05, 2020)\n",
      "作者: a78998042a (Benjimin)\n",
      "時間: Wed Feb  5 20:59:32 2020\n"
     ]
    }
   ],
   "source": [
    "url = 'https://www.ptt.cc/bbs/NBA/index6504.html'\n",
    "r = requests.get(url)\n",
    "\n",
    "soup = BeautifulSoup(r.text, \"html.parser\")\n",
    "\n",
    "for d in soup.find_all(class_=\"title\"):\n",
    "    print(d.text.replace('\\t', '').replace('\\n', ''))\n",
    "    try:\n",
    "        r = BeautifulSoup(requests.get('https://www.ptt.cc'+d.find('a')['href']).text, \"html5lib\")\n",
    "        print('作者: ' + r.find_all(\"span\",{\"class\":\"article-meta-value\"})[0].text)\n",
    "        print('時間: ' + r.find_all(\"span\",{\"class\":\"article-meta-value\"})[3].text)\n",
    "    except:\n",
    "        continue"
   ]
  },
  {
   "cell_type": "markdown",
   "metadata": {},
   "source": [
    "### ③ 試著爬爬看其他版的文章"
   ]
  },
  {
   "cell_type": "code",
   "execution_count": 16,
   "metadata": {},
   "outputs": [
    {
     "name": "stdout",
     "output_type": "stream",
     "text": [
      "[情報] A new BMW 4系列 照片？\n",
      "作者: LaoDa105 (我愛老大 因為老大強暴了)\n",
      "時間: Thu Feb  6 10:04:00 2020\n",
      "[新聞] Skoda 全新小休旅今年將量產，預計搭載 1.5 升渦輪動力！\n",
      "作者: yamatobar (747-8I)\n",
      "時間: Thu Feb  6 10:16:11 2020\n",
      "(本文已被刪除) [s8757042]\n",
      "[問題]  房貸增貸買車\n",
      "作者: DerrickM ()\n",
      "時間: Thu Feb  6 10:28:02 2020\n",
      "[新聞] Suzuki 超省油小車改款發表，日規首度推出專屬 MF 車型！\n",
      "作者: yamatobar (747-8I)\n",
      "時間: Thu Feb  6 10:40:09 2020\n",
      "[新聞] 網傳直營站油料較佳，中油：連鎖體系品\n",
      "作者: edwardhsu (年紀小不懂事)\n",
      "時間: Thu Feb  6 10:56:34 2020\n",
      "[新聞] 比 RAV4 高階，還有 7 人座！Toyota 新油電休旅準備登場！\n",
      "作者: yamatobar (747-8I)\n",
      "時間: Thu Feb  6 11:18:10 2020\n",
      "[新聞] Hyundai 七人休旅 Santa Fe 剛登入台灣，外媒又拍到改款測\n",
      "作者: yamatobar (747-8I)\n",
      "時間: Thu Feb  6 11:31:53 2020\n",
      "[新聞] 新冠狀病毒疫情對全球汽車行業影響\n",
      "作者: zxcvxx (zxcvxx)\n",
      "時間: Thu Feb  6 11:33:00 2020\n",
      "[新聞] 搭載業界首創曲面OLED螢幕！Cadillac全新第五代旗艦休旅Esca\n",
      "作者: yamatobar (747-8I)\n",
      "時間: Thu Feb  6 11:46:17 2020\n",
      "Re: [問題]  房貸增貸買車\n",
      "作者: bluesata (唐牛才是食神)\n",
      "時間: Thu Feb  6 11:49:31 2020\n",
      "[問題] 請問toyota rav4選車身和引擎號要加錢嗎?\n",
      "作者: daniem1314 (原野放肆)\n",
      "時間: Thu Feb  6 12:11:14 2020\n",
      "[問車] CLA vs A-class sedan\n",
      "作者: a27938686 (海灘褲)\n",
      "時間: Thu Feb  6 12:12:32 2020\n",
      "[問題] 所以神A在車版到底安不安全\n",
      "作者: GalaxySII (銀河二號機)\n",
      "時間: Thu Feb  6 12:19:37 2020\n",
      "[問題] 路肩罰單\n",
      "作者: timgrowup (塏子他爹)\n",
      "時間: Thu Feb  6 12:57:01 2020\n",
      "[問題] 現在還有本田迷嗎？\n",
      "作者: ObeseMansion (肥胖的豪宅)\n",
      "時間: Thu Feb  6 13:20:38 2020\n",
      "Re: [問題] 柴油車清洗DPF和EGR\n",
      "作者: hereticjoe ((6))\n",
      "時間: Thu Feb  6 13:25:31 2020\n",
      "[問題] 請問yaris這個燈亮了是什麼意思\n",
      "作者: Rael5657 (難喝的)\n",
      "時間: Thu Feb  6 13:32:57 2020\n",
      "[公告] Car板板規 2019/08/15 板規修正\n",
      "作者: MunezSu (Munez)\n",
      "時間: Wed Jan  9 01:45:44 2019\n",
      "Re: [整理] 百萬左右熱門新車主被動安全配備(SRS/ESP/VSC..)整理\n",
      "作者: z85917131 (z85917131)\n",
      "時間: Tue Apr  9 11:59:25 2019\n",
      "[活動連署] saitou68201上任第二位版主\n",
      "作者: MunezSu\n",
      "時間: Tue Oct  1 00:41:00 2019\n"
     ]
    }
   ],
   "source": [
    "url = 'https://www.ptt.cc/bbs/car/index.html'\n",
    "r = requests.get(url)\n",
    "\n",
    "soup = BeautifulSoup(r.text, \"html.parser\")\n",
    "\n",
    "for d in soup.find_all(class_=\"title\"):\n",
    "    print(d.text.replace('\\t', '').replace('\\n', ''))\n",
    "    try:\n",
    "        r = BeautifulSoup(requests.get('https://www.ptt.cc'+d.find('a')['href']).text, \"html5lib\")\n",
    "        print('作者: ' + r.find_all(\"span\",{\"class\":\"article-meta-value\"})[0].text)\n",
    "        print('時間: ' + r.find_all(\"span\",{\"class\":\"article-meta-value\"})[3].text)\n",
    "    except:\n",
    "        continue"
   ]
  }
 ],
 "metadata": {
  "kernelspec": {
   "display_name": "Python 3",
   "language": "python",
   "name": "python3"
  },
  "language_info": {
   "codemirror_mode": {
    "name": "ipython",
    "version": 3
   },
   "file_extension": ".py",
   "mimetype": "text/x-python",
   "name": "python",
   "nbconvert_exporter": "python",
   "pygments_lexer": "ipython3",
   "version": "3.7.0"
  }
 },
 "nbformat": 4,
 "nbformat_minor": 2
}
