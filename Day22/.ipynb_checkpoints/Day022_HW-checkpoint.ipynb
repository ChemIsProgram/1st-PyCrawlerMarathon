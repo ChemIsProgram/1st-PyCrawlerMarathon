{
 "cells": [
  {
   "cell_type": "markdown",
   "metadata": {},
   "source": [
    "# 空氣污染監測網 網路爬蟲實作練習\n",
    "\n",
    "\n",
    "* 能夠利用 selenium + BeautifulSoup 撰寫爬蟲，並存放到合適的資料結構\n"
   ]
  },
  {
   "cell_type": "markdown",
   "metadata": {},
   "source": [
    "## 作業目標\n",
    "\n",
    "根據範例 ，完成以下問題：\n",
    "\n",
    "* ① 取出 台北市士林區 2018/01 – 2018/08 的 SO2 資料\n",
    "* ② 取出 台北市士林區 2018/01 – 2018/08 的 SO2、CO 資料\n",
    "\n",
    "\n",
    "\n"
   ]
  },
  {
   "cell_type": "markdown",
   "metadata": {},
   "source": [
    "### ① 取出 台北市士林區 2018/01 – 2018/08 的 SO2 資料"
   ]
  },
  {
   "cell_type": "code",
   "execution_count": 1,
   "metadata": {},
   "outputs": [],
   "source": [
    "from selenium import webdriver\n",
    "from selenium.webdriver.support.ui import Select\n",
    "from bs4 import BeautifulSoup as bs"
   ]
  },
  {
   "cell_type": "code",
   "execution_count": 2,
   "metadata": {},
   "outputs": [],
   "source": [
    "browser = webdriver.Chrome(executable_path='../chromedriver')\n",
    "browser.get(\"http://taqm.epa.gov.tw/taqm/tw/MonthlyAverage.aspx\")\n",
    "\n",
    "selectYear = Select(browser.find_element_by_id('ctl05_ddlYear'))\n",
    "selectYear.select_by_value('2018')\n",
    "browser.find_element_by_id('ctl05_btnQuery').click()"
   ]
  },
  {
   "cell_type": "code",
   "execution_count": 4,
   "metadata": {},
   "outputs": [
    {
     "data": {
      "text/plain": [
       "['SO2', 'CO']"
      ]
     },
     "execution_count": 4,
     "metadata": {},
     "output_type": "execute_result"
    }
   ],
   "source": [
    "html_source = browser.page_source\n",
    "soup = bs(html_source, 'html.parser')\n",
    "table = soup.find('table', class_='TABLE_G')\n",
    "\n",
    "keys = []\n",
    "header = table.find_all('td', class_='no-alt')\n",
    "for txt in header:\n",
    "    if (txt.text) != 'ppb' and (txt.text) != 'ppm':\n",
    "        keys.append(txt.text)\n",
    "        \n",
    "    if len(keys) == 2:\n",
    "        break\n",
    "keys"
   ]
  },
  {
   "cell_type": "code",
   "execution_count": 8,
   "metadata": {},
   "outputs": [
    {
     "data": {
      "text/plain": [
       "{'SO2': {'2018/01': '1.80',\n",
       "  '2018/02': '1.90',\n",
       "  '2018/03': '2.20',\n",
       "  '2018/04': '2.30',\n",
       "  '2018/05': '3.10',\n",
       "  '2018/06': '2.70',\n",
       "  '2018/07': '2.20',\n",
       "  '2018/08': '2.40'}}"
      ]
     },
     "execution_count": 8,
     "metadata": {},
     "output_type": "execute_result"
    }
   ],
   "source": [
    "d = dict()\n",
    "row = table.find_all('td', attrs={'class': None})\n",
    "\n",
    "k = ''\n",
    "v = ''\n",
    "count = 0\n",
    "i = 0\n",
    "key = keys[i]\n",
    "\n",
    "for content in row:\n",
    "    if content.text.strip() != '':\n",
    "        if k == '':\n",
    "            k = content.text\n",
    "        elif v == '':\n",
    "            v = content.text\n",
    "\n",
    "        if k != '' and v != '':\n",
    "            try:\n",
    "                d[key][k] = v\n",
    "            except:\n",
    "                d[key] = dict()\n",
    "                d[key][k] = v\n",
    "                \n",
    "            k = ''\n",
    "            v = ''\n",
    "            count = count + 1\n",
    "\n",
    "        if count == 8:\n",
    "            break\n",
    "            \n",
    "d"
   ]
  },
  {
   "cell_type": "markdown",
   "metadata": {},
   "source": [
    "### ② 取出 台北市士林區 2018/01 – 2018/08 的 SO2、CO 資料"
   ]
  },
  {
   "cell_type": "code",
   "execution_count": 20,
   "metadata": {},
   "outputs": [
    {
     "data": {
      "text/plain": [
       "{'SO2': {'2018/01': '1.80',\n",
       "  '2018/02': '1.90',\n",
       "  '2018/03': '2.20',\n",
       "  '2018/04': '2.30',\n",
       "  '2018/05': '3.10',\n",
       "  '2018/06': '2.70',\n",
       "  '2018/07': '2.20',\n",
       "  '2018/08': '2.40'},\n",
       " 'CO': {'2018/01': '0.34',\n",
       "  '2018/02': '0.44',\n",
       "  '2018/03': '0.40',\n",
       "  '2018/04': '0.38',\n",
       "  '2018/05': '0.34',\n",
       "  '2018/06': '0.29',\n",
       "  '2018/07': '0.21',\n",
       "  '2018/08': '0.30'}}"
      ]
     },
     "execution_count": 20,
     "metadata": {},
     "output_type": "execute_result"
    }
   ],
   "source": [
    "d = dict()\n",
    "row = table.find_all('td', attrs={'class': None})\n",
    "\n",
    "k = ''\n",
    "v = ''\n",
    "count = 0\n",
    "i = 0\n",
    "key = keys[i]\n",
    "\n",
    "for content in row:\n",
    "    if content.text.strip() != '':\n",
    "        \n",
    "        if k == '':\n",
    "            k = content.text\n",
    "        elif v == '':\n",
    "            v = content.text\n",
    "\n",
    "        if k != '' and v != '':\n",
    "            \n",
    "            if int(k[5:7]) > 8:\n",
    "                k = ''\n",
    "                v = ''\n",
    "                count = 0\n",
    "                continue\n",
    "            try:\n",
    "                d[key][k] = v\n",
    "            except:\n",
    "                d[key] = dict()\n",
    "                d[key][k] = v\n",
    "                \n",
    "            k = ''\n",
    "            v = ''\n",
    "            count = count + 1\n",
    "        \n",
    "        if count == 8:\n",
    "            count = 0\n",
    "            \n",
    "            if key == keys[len(keys)-1]:\n",
    "                break\n",
    "            \n",
    "            i = i + 1\n",
    "            key = keys[i]\n",
    "            \n",
    "d"
   ]
  },
  {
   "cell_type": "code",
   "execution_count": null,
   "metadata": {},
   "outputs": [],
   "source": []
  }
 ],
 "metadata": {
  "kernelspec": {
   "display_name": "Python 3",
   "language": "python",
   "name": "python3"
  },
  "language_info": {
   "codemirror_mode": {
    "name": "ipython",
    "version": 3
   },
   "file_extension": ".py",
   "mimetype": "text/x-python",
   "name": "python",
   "nbconvert_exporter": "python",
   "pygments_lexer": "ipython3",
   "version": "3.7.0"
  }
 },
 "nbformat": 4,
 "nbformat_minor": 2
}
